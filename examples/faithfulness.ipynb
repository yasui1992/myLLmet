{
 "cells": [
  {
   "cell_type": "code",
   "execution_count": null,
   "id": "0",
   "metadata": {},
   "outputs": [],
   "source": [
    "import wikipediaapi\n",
    "wiki_wiki = wikipediaapi.Wikipedia(user_agent=\"python-wikipediaapi\", language=\"ja\")\n",
    "\n",
    "p_wiki = wiki_wiki.page(\"Claude\")\n",
    "context = p_wiki.text[:500]\n",
    "\n",
    "print(context)"
   ]
  },
  {
   "cell_type": "code",
   "execution_count": null,
   "id": "1",
   "metadata": {},
   "outputs": [],
   "source": [
    "import pandas as pd\n",
    "\n",
    "df = pd.DataFrame([\n",
    "    {\n",
    "        \"question\": \"Claudeの概要を説明してください\",\n",
    "        \"answer\": (\n",
    "            \"Claudeは、2023年3月14日にAnthropic社によって一般公開された対話型AIである。\\n\"\n",
    "            \"Anthropicは元OpenAIのメンバーらが設立した企業で、倫理的なAI開発を重視している。\\n\"\n",
    "        ),\n",
    "        \"context\": context,\n",
    "    },\n",
    "    {\n",
    "        \"question\": \"Claudeの概要を説明してください\",\n",
    "        \"answer\": (\n",
    "            \"Claudeは、2023年3月14日にAnthropic社によって一般公開された対話型AIである。\\n\"\n",
    "            \"AnthropicはGoogle傘下のAI研究部門で、対話型AIに特化している。\\n\"\n",
    "        ),\n",
    "        \"context\": context,\n",
    "    },\n",
    "    {\n",
    "        \"question\": \"Claudeの概要を説明してください\",\n",
    "        \"answer\": (\n",
    "            \"Claudeは2021年にMeta（旧Facebook）が開発し、2022年に全世界で同時公開された。\\n\"\n",
    "            \"リリース当初は「クラウディアAI」という名前で知られていた。\\n\"\n",
    "        ),\n",
    "        \"context\": context,\n",
    "    },\n",
    "    {\n",
    "        \"question\": \"Claudeの概要を説明してください\",\n",
    "        \"answer\": (\n",
    "            \"Claudeは、2023年3月14日にAnthropic社によって一般公開された対話型AIである。\\n\"\n",
    "            \"2025年現在、Claude4が最新版である。\"\n",
    "        ),\n",
    "        \"context\": context,\n",
    "    },\n",
    "])\n",
    "df"
   ]
  },
  {
   "cell_type": "code",
   "execution_count": null,
   "id": "2",
   "metadata": {},
   "outputs": [],
   "source": [
    "from myllmet.io_aws import BedrockChatClient\n",
    "from myllmet.metrics import Faithfulness\n",
    "from myllmet.trackers import ListTracker\n",
    "\n",
    "client = BedrockChatClient(\"anthropic.claude-3-5-sonnet-20240620-v1:0\")\n",
    "tracker = ListTracker()\n",
    "metrics = Faithfulness.from_clients(client, client)\n",
    "\n",
    "metrics.set_tracker(tracker)"
   ]
  },
  {
   "cell_type": "code",
   "execution_count": null,
   "id": "3",
   "metadata": {},
   "outputs": [],
   "source": [
    "for r in df.itertuples(index=False):\n",
    "    score = metrics.score(question=r.question, answer=r.answer, context=r.context)\n",
    "    print(score)\n"
   ]
  },
  {
   "cell_type": "code",
   "execution_count": null,
   "id": "4",
   "metadata": {},
   "outputs": [],
   "source": [
    "df_std = tracker.to_pandas(\"standard\")\n",
    "df_std"
   ]
  },
  {
   "cell_type": "code",
   "execution_count": null,
   "id": "5",
   "metadata": {},
   "outputs": [],
   "source": [
    "df_int = tracker.to_pandas(\"intermediates\")\n",
    "df_int"
   ]
  },
  {
   "cell_type": "code",
   "execution_count": null,
   "id": "6",
   "metadata": {},
   "outputs": [],
   "source": [
    "from IPython.display import JSON\n",
    "\n",
    "JSON(\n",
    "    df_int.to_json(force_ascii=False)\n",
    ")"
   ]
  },
  {
   "cell_type": "code",
   "execution_count": null,
   "id": "7",
   "metadata": {},
   "outputs": [],
   "source": []
  }
 ],
 "metadata": {
  "kernelspec": {
   "display_name": "Python 3 (ipykernel)",
   "language": "python",
   "name": "python3"
  },
  "language_info": {
   "codemirror_mode": {
    "name": "ipython",
    "version": 3
   },
   "file_extension": ".py",
   "mimetype": "text/x-python",
   "name": "python",
   "nbconvert_exporter": "python",
   "pygments_lexer": "ipython3",
   "version": "3.12.3"
  }
 },
 "nbformat": 4,
 "nbformat_minor": 5
}
